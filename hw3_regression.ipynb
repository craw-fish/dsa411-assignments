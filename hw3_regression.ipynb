{
 "cells": [
  {
   "cell_type": "markdown",
   "metadata": {},
   "source": [
    "## Homework 3"
   ]
  },
  {
   "cell_type": "markdown",
   "metadata": {},
   "source": [
    "### Simple Linear Regression"
   ]
  },
  {
   "cell_type": "code",
   "execution_count": 86,
   "metadata": {},
   "outputs": [],
   "source": [
    "import numpy as np\n",
    "import pandas as pd\n",
    "import matplotlib.pyplot as plt\n",
    "import seaborn as sns\n",
    "sns.set_theme(palette='Set2')"
   ]
  },
  {
   "cell_type": "markdown",
   "metadata": {},
   "source": [
    "**Use the sm.OLS() (or any available linear regression) function to perform a simple linear regression with mpg as the response and horsepower as the predictor. Print the model results.**"
   ]
  },
  {
   "cell_type": "code",
   "execution_count": 87,
   "metadata": {},
   "outputs": [
    {
     "name": "stdout",
     "output_type": "stream",
     "text": [
      "<class 'pandas.core.frame.DataFrame'>\n",
      "RangeIndex: 392 entries, 0 to 391\n",
      "Data columns (total 9 columns):\n",
      " #   Column        Non-Null Count  Dtype  \n",
      "---  ------        --------------  -----  \n",
      " 0   mpg           392 non-null    float64\n",
      " 1   cylinders     392 non-null    int64  \n",
      " 2   displacement  392 non-null    float64\n",
      " 3   horsepower    392 non-null    int64  \n",
      " 4   weight        392 non-null    int64  \n",
      " 5   acceleration  392 non-null    float64\n",
      " 6   year          392 non-null    int64  \n",
      " 7   origin        392 non-null    int64  \n",
      " 8   name          392 non-null    object \n",
      "dtypes: float64(3), int64(5), object(1)\n",
      "memory usage: 27.7+ KB\n",
      "None\n"
     ]
    },
    {
     "data": {
      "text/html": [
       "<div>\n",
       "<style scoped>\n",
       "    .dataframe tbody tr th:only-of-type {\n",
       "        vertical-align: middle;\n",
       "    }\n",
       "\n",
       "    .dataframe tbody tr th {\n",
       "        vertical-align: top;\n",
       "    }\n",
       "\n",
       "    .dataframe thead th {\n",
       "        text-align: right;\n",
       "    }\n",
       "</style>\n",
       "<table border=\"1\" class=\"dataframe\">\n",
       "  <thead>\n",
       "    <tr style=\"text-align: right;\">\n",
       "      <th></th>\n",
       "      <th>mpg</th>\n",
       "      <th>cylinders</th>\n",
       "      <th>displacement</th>\n",
       "      <th>horsepower</th>\n",
       "      <th>weight</th>\n",
       "      <th>acceleration</th>\n",
       "      <th>year</th>\n",
       "      <th>origin</th>\n",
       "      <th>name</th>\n",
       "    </tr>\n",
       "  </thead>\n",
       "  <tbody>\n",
       "    <tr>\n",
       "      <th>0</th>\n",
       "      <td>18.0</td>\n",
       "      <td>8</td>\n",
       "      <td>307.0</td>\n",
       "      <td>130</td>\n",
       "      <td>3504</td>\n",
       "      <td>12.0</td>\n",
       "      <td>70</td>\n",
       "      <td>1</td>\n",
       "      <td>chevrolet chevelle malibu</td>\n",
       "    </tr>\n",
       "    <tr>\n",
       "      <th>1</th>\n",
       "      <td>15.0</td>\n",
       "      <td>8</td>\n",
       "      <td>350.0</td>\n",
       "      <td>165</td>\n",
       "      <td>3693</td>\n",
       "      <td>11.5</td>\n",
       "      <td>70</td>\n",
       "      <td>1</td>\n",
       "      <td>buick skylark 320</td>\n",
       "    </tr>\n",
       "    <tr>\n",
       "      <th>2</th>\n",
       "      <td>18.0</td>\n",
       "      <td>8</td>\n",
       "      <td>318.0</td>\n",
       "      <td>150</td>\n",
       "      <td>3436</td>\n",
       "      <td>11.0</td>\n",
       "      <td>70</td>\n",
       "      <td>1</td>\n",
       "      <td>plymouth satellite</td>\n",
       "    </tr>\n",
       "  </tbody>\n",
       "</table>\n",
       "</div>"
      ],
      "text/plain": [
       "    mpg  cylinders  displacement  horsepower  weight  acceleration  year  \\\n",
       "0  18.0          8         307.0         130    3504          12.0    70   \n",
       "1  15.0          8         350.0         165    3693          11.5    70   \n",
       "2  18.0          8         318.0         150    3436          11.0    70   \n",
       "\n",
       "   origin                       name  \n",
       "0       1  chevrolet chevelle malibu  \n",
       "1       1          buick skylark 320  \n",
       "2       1         plymouth satellite  "
      ]
     },
     "execution_count": 87,
     "metadata": {},
     "output_type": "execute_result"
    }
   ],
   "source": [
    "df = pd.read_csv('data/Auto.csv')\n",
    "print(df.info())\n",
    "df.head(3)"
   ]
  },
  {
   "cell_type": "code",
   "execution_count": 88,
   "metadata": {},
   "outputs": [],
   "source": [
    "# set up data\n",
    "import statsmodels.api as sm\n",
    "from sklearn.model_selection import train_test_split\n",
    "y = df['mpg']\n",
    "X = df[['horsepower']]\n",
    "X = sm.add_constant(X)\n",
    "X_train, X_test, y_train, y_test = train_test_split(X, y, test_size=0.33, random_state=82)"
   ]
  },
  {
   "cell_type": "code",
   "execution_count": 89,
   "metadata": {},
   "outputs": [
    {
     "name": "stdout",
     "output_type": "stream",
     "text": [
      "                            OLS Regression Results                            \n",
      "==============================================================================\n",
      "Dep. Variable:                    mpg   R-squared:                       0.614\n",
      "Model:                            OLS   Adj. R-squared:                  0.613\n",
      "Method:                 Least Squares   F-statistic:                     414.1\n",
      "Date:                Tue, 25 Feb 2025   Prob (F-statistic):           1.04e-55\n",
      "Time:                        11:44:56   Log-Likelihood:                -783.45\n",
      "No. Observations:                 262   AIC:                             1571.\n",
      "Df Residuals:                     260   BIC:                             1578.\n",
      "Df Model:                           1                                         \n",
      "Covariance Type:            nonrobust                                         \n",
      "==============================================================================\n",
      "                 coef    std err          t      P>|t|      [0.025      0.975]\n",
      "------------------------------------------------------------------------------\n",
      "const         40.3709      0.873     46.246      0.000      38.652      42.090\n",
      "horsepower    -0.1624      0.008    -20.348      0.000      -0.178      -0.147\n",
      "==============================================================================\n",
      "Omnibus:                        5.610   Durbin-Watson:                   2.017\n",
      "Prob(Omnibus):                  0.061   Jarque-Bera (JB):                5.695\n",
      "Skew:                           0.359   Prob(JB):                       0.0580\n",
      "Kurtosis:                       2.915   Cond. No.                         320.\n",
      "==============================================================================\n",
      "\n",
      "Notes:\n",
      "[1] Standard Errors assume that the covariance matrix of the errors is correctly specified.\n"
     ]
    }
   ],
   "source": [
    "# define and fit model\n",
    "lm = sm.OLS(y_train, X_train)\n",
    "lm = lm.fit()\n",
    "print(lm.summary())"
   ]
  },
  {
   "cell_type": "code",
   "execution_count": 90,
   "metadata": {},
   "outputs": [
    {
     "name": "stdout",
     "output_type": "stream",
     "text": [
      "R-squared: 0.586\n",
      "MAE: 3.848 (mpg)\n",
      "MAPE: 17.912%\n",
      "RMSE: 5.061 (mpg)\n"
     ]
    }
   ],
   "source": [
    "# compare real and predicted values for test set\n",
    "from sklearn import metrics\n",
    "\n",
    "y_pred = lm.predict(X_test)\n",
    "\n",
    "# strength of correlation between real and predicted y\n",
    "print(f\"R-squared: {metrics.r2_score(y_test, y_pred):.3f}\")\n",
    "# avg distance from true y\n",
    "print(f\"MAE: {metrics.mean_absolute_error(y_test, y_pred):.3f} (mpg)\")\n",
    "# avg % distance\n",
    "print(f\"MAPE: {metrics.mean_absolute_percentage_error(y_test, y_pred)*100:.3f}%\")\n",
    "# weighted avg distance (punishing large errors)\n",
    "print(f\"RMSE: {metrics.root_mean_squared_error(y_test, y_pred):.3f} (mpg)\")"
   ]
  },
  {
   "cell_type": "markdown",
   "metadata": {},
   "source": [
    "**Comment on the output by answering these questions:**\n",
    "\n",
    "i.\tIs there a relationship between the predictor and the response? Specify the metric you use.\n",
    "\n",
    "ii.\tIs the relationship between the predictor(horsepower) and the response positive or negative?\n",
    "\n",
    "iii.\tHow strong is the relationship between the predictor and the response? You should speak in terms of “for every one unit increase in horsepower…” \n",
    "\n",
    "iv.\tWhat is the predicted mpg associated with a horsepower of 98? \n",
    "\n",
    "v.\tWhat are the associated 95 % confidence interval for the coefficients? "
   ]
  },
  {
   "cell_type": "code",
   "execution_count": 91,
   "metadata": {},
   "outputs": [
    {
     "name": "stdout",
     "output_type": "stream",
     "text": [
      "i. negative relationship between predictor (horsepower) and response (mpg) as indicated by negative coefficient of predictor, \n",
      "though the correlaton is very weak under a linear model as indicated by the R-squared value\n",
      "ii. negative relationship\n",
      "iii. for every 1-unit increase in horsepower we excect an decrease of 0.162 mpg\n",
      "iv. y(98) = 24.455 mpg\n",
      "v. intercept CI: (38.652, 42.090) | horsepower CI: (-0.178, -0.147)\n"
     ]
    }
   ],
   "source": [
    "print(f\"i. negative relationship between predictor (horsepower) and response (mpg) as indicated by negative coefficient of predictor, \\nthough the correlaton is very weak under a linear model as indicated by the R-squared value\")\n",
    "print(f\"ii. negative relationship\")\n",
    "print(f\"iii. for every 1-unit increase in horsepower we excect an decrease of {abs(lm.params['horsepower']):.3f} mpg\")\n",
    "print(f\"iv. y(98) = {(lm.params['const'] + lm.params['horsepower']*98):.3f} mpg\")\n",
    "print(f\"v. intercept CI: ({lm.conf_int().loc['const'][0]:.3f}, {lm.conf_int().loc['const'][1]:.3f}) | \"\n",
    "      f\"horsepower CI: ({lm.conf_int().loc['horsepower'][0]:.3f}, {lm.conf_int().loc['horsepower'][1]:.3f})\")"
   ]
  },
  {
   "cell_type": "markdown",
   "metadata": {},
   "source": [
    "**Write out the model equation in terms of the coefficients, like y=B0+B1x**"
   ]
  },
  {
   "cell_type": "code",
   "execution_count": 92,
   "metadata": {},
   "outputs": [
    {
     "name": "stdout",
     "output_type": "stream",
     "text": [
      "mpg = 40.371 - 0.162(horsepower)\n"
     ]
    }
   ],
   "source": [
    "print(f\"mpg = {lm.params['const']:.3f} - {abs(lm.params['horsepower']):.3f}(horsepower)\")"
   ]
  },
  {
   "cell_type": "markdown",
   "metadata": {},
   "source": [
    "**Plot the response and the predictor in a new set of axes ax. So the scatterplot of the data, with the corresponding model prediction line on the same graph.**"
   ]
  },
  {
   "cell_type": "code",
   "execution_count": 93,
   "metadata": {},
   "outputs": [
    {
     "name": "stdout",
     "output_type": "stream",
     "text": [
      "<class 'pandas.core.frame.DataFrame'>\n",
      "Index: 130 entries, 160 to 151\n",
      "Data columns (total 3 columns):\n",
      " #   Column      Non-Null Count  Dtype  \n",
      "---  ------      --------------  -----  \n",
      " 0   horsepower  130 non-null    int64  \n",
      " 1   mpg_true    130 non-null    float64\n",
      " 2   mpg_pred    130 non-null    float64\n",
      "dtypes: float64(2), int64(1)\n",
      "memory usage: 4.1 KB\n"
     ]
    }
   ],
   "source": [
    "# combine test data with real and predicted values (for graph functions)\n",
    "y_test.name = 'mpg_true'\n",
    "y_pred.name = 'mpg_pred'\n",
    "compare = pd.concat([X_test, y_test, y_pred], axis=1).drop(['const'], axis=1)\n",
    "compare.info()"
   ]
  },
  {
   "cell_type": "code",
   "execution_count": 94,
   "metadata": {},
   "outputs": [
    {
     "data": {
      "image/png": "[encoded data removed]",
      "text/plain": [
       "<Figure size 640x480 with 1 Axes>"
      ]
     },
     "metadata": {},
     "output_type": "display_data"
    }
   ],
   "source": [
    "# compare real and predicted lines of best fit for test data\n",
    "fig, ax = plt.subplots()\n",
    "sns.regplot(ax=ax, data=compare, x='horsepower', y='mpg_true', line_kws={'color':'blue', 'label':'true'})\n",
    "sns.lineplot(ax=ax, data=compare, x='horsepower', y='mpg_pred', color='red', label='pred')\n",
    "\n",
    "ax.set_ylabel('mpg')\n",
    "ax.legend()\n",
    "plt.show()"
   ]
  },
  {
   "cell_type": "code",
   "execution_count": 95,
   "metadata": {},
   "outputs": [
    {
     "data": {
      "image/png": "[encoded data removed]",
      "text/plain": [
       "<Figure size 640x480 with 1 Axes>"
      ]
     },
     "metadata": {},
     "output_type": "display_data"
    }
   ],
   "source": [
    "# compare real and predicted y-values (should be linear)\n",
    "sns.scatterplot(data=compare, x='mpg_true', y='mpg_pred', s=50)\n",
    "plt.show()"
   ]
  },
  {
   "cell_type": "code",
   "execution_count": 96,
   "metadata": {},
   "outputs": [
    {
     "data": {
      "image/png": "[encoded data removed]",
      "text/plain": [
       "<Figure size 640x480 with 1 Axes>"
      ]
     },
     "metadata": {},
     "output_type": "display_data"
    }
   ],
   "source": [
    "# distribution of residuals (should be normal)\n",
    "sns.histplot(y_test - y_pred, bins=20, kde=True)\n",
    "plt.show()"
   ]
  },
  {
   "cell_type": "markdown",
   "metadata": {},
   "source": [
    "### Multiple Linear Regression"
   ]
  },
  {
   "cell_type": "markdown",
   "metadata": {},
   "source": [
    "**Use the sm.OLS() function to perform a multiple linear regression with mpg as the response and all other variables except name as the predictors. The origin variable refers to the country of origin and should be treated as a categorical predictor.**"
   ]
  },
  {
   "cell_type": "code",
   "execution_count": 97,
   "metadata": {},
   "outputs": [
    {
     "data": {
      "text/html": [
       "<div>\n",
       "<style scoped>\n",
       "    .dataframe tbody tr th:only-of-type {\n",
       "        vertical-align: middle;\n",
       "    }\n",
       "\n",
       "    .dataframe tbody tr th {\n",
       "        vertical-align: top;\n",
       "    }\n",
       "\n",
       "    .dataframe thead th {\n",
       "        text-align: right;\n",
       "    }\n",
       "</style>\n",
       "<table border=\"1\" class=\"dataframe\">\n",
       "  <thead>\n",
       "    <tr style=\"text-align: right;\">\n",
       "      <th></th>\n",
       "      <th>mpg</th>\n",
       "      <th>cylinders</th>\n",
       "      <th>displacement</th>\n",
       "      <th>horsepower</th>\n",
       "      <th>weight</th>\n",
       "      <th>acceleration</th>\n",
       "      <th>year</th>\n",
       "      <th>name</th>\n",
       "      <th>origin_2</th>\n",
       "      <th>origin_3</th>\n",
       "    </tr>\n",
       "  </thead>\n",
       "  <tbody>\n",
       "    <tr>\n",
       "      <th>0</th>\n",
       "      <td>18.0</td>\n",
       "      <td>8</td>\n",
       "      <td>307.0</td>\n",
       "      <td>130</td>\n",
       "      <td>3504</td>\n",
       "      <td>12.0</td>\n",
       "      <td>70</td>\n",
       "      <td>chevrolet chevelle malibu</td>\n",
       "      <td>False</td>\n",
       "      <td>False</td>\n",
       "    </tr>\n",
       "    <tr>\n",
       "      <th>1</th>\n",
       "      <td>15.0</td>\n",
       "      <td>8</td>\n",
       "      <td>350.0</td>\n",
       "      <td>165</td>\n",
       "      <td>3693</td>\n",
       "      <td>11.5</td>\n",
       "      <td>70</td>\n",
       "      <td>buick skylark 320</td>\n",
       "      <td>False</td>\n",
       "      <td>False</td>\n",
       "    </tr>\n",
       "    <tr>\n",
       "      <th>2</th>\n",
       "      <td>18.0</td>\n",
       "      <td>8</td>\n",
       "      <td>318.0</td>\n",
       "      <td>150</td>\n",
       "      <td>3436</td>\n",
       "      <td>11.0</td>\n",
       "      <td>70</td>\n",
       "      <td>plymouth satellite</td>\n",
       "      <td>False</td>\n",
       "      <td>False</td>\n",
       "    </tr>\n",
       "  </tbody>\n",
       "</table>\n",
       "</div>"
      ],
      "text/plain": [
       "    mpg  cylinders  displacement  horsepower  weight  acceleration  year  \\\n",
       "0  18.0          8         307.0         130    3504          12.0    70   \n",
       "1  15.0          8         350.0         165    3693          11.5    70   \n",
       "2  18.0          8         318.0         150    3436          11.0    70   \n",
       "\n",
       "                        name  origin_2  origin_3  \n",
       "0  chevrolet chevelle malibu     False     False  \n",
       "1          buick skylark 320     False     False  \n",
       "2         plymouth satellite     False     False  "
      ]
     },
     "execution_count": 97,
     "metadata": {},
     "output_type": "execute_result"
    }
   ],
   "source": [
    "df_dummy = pd.get_dummies(df, columns=['origin'], drop_first=True)\n",
    "df_dummy.head(3)"
   ]
  },
  {
   "cell_type": "code",
   "execution_count": 98,
   "metadata": {},
   "outputs": [],
   "source": [
    "# train/test split\n",
    "y = df['mpg']\n",
    "X = df_dummy.drop(['mpg', 'name'], axis=1)\n",
    "X_train, X_test, y_train, y_test = train_test_split(X, y, test_size=0.33, random_state=82)"
   ]
  },
  {
   "cell_type": "code",
   "execution_count": 99,
   "metadata": {},
   "outputs": [],
   "source": [
    "# scale and add constant\n",
    "from sklearn.preprocessing import StandardScaler\n",
    "scaler = StandardScaler()\n",
    "X_train_scaled = scaler.fit_transform(X_train)\n",
    "X_test_scaled = scaler.transform(X_test)\n",
    "X_train_scaled = sm.add_constant(X_train_scaled)\n",
    "X_test_scaled = sm.add_constant(X_test_scaled)"
   ]
  },
  {
   "cell_type": "code",
   "execution_count": 100,
   "metadata": {},
   "outputs": [
    {
     "data": {
      "text/html": [
       "<div>\n",
       "<style scoped>\n",
       "    .dataframe tbody tr th:only-of-type {\n",
       "        vertical-align: middle;\n",
       "    }\n",
       "\n",
       "    .dataframe tbody tr th {\n",
       "        vertical-align: top;\n",
       "    }\n",
       "\n",
       "    .dataframe thead th {\n",
       "        text-align: right;\n",
       "    }\n",
       "</style>\n",
       "<table border=\"1\" class=\"dataframe\">\n",
       "  <thead>\n",
       "    <tr style=\"text-align: right;\">\n",
       "      <th></th>\n",
       "      <th>0</th>\n",
       "      <th>1</th>\n",
       "      <th>2</th>\n",
       "      <th>3</th>\n",
       "      <th>4</th>\n",
       "      <th>5</th>\n",
       "      <th>6</th>\n",
       "      <th>7</th>\n",
       "      <th>8</th>\n",
       "    </tr>\n",
       "  </thead>\n",
       "  <tbody>\n",
       "    <tr>\n",
       "      <th>0</th>\n",
       "      <td>1.0</td>\n",
       "      <td>-0.829498</td>\n",
       "      <td>-1.065670</td>\n",
       "      <td>-0.956795</td>\n",
       "      <td>-1.165475</td>\n",
       "      <td>1.246767</td>\n",
       "      <td>-0.532887</td>\n",
       "      <td>-0.497613</td>\n",
       "      <td>1.962614</td>\n",
       "    </tr>\n",
       "    <tr>\n",
       "      <th>1</th>\n",
       "      <td>1.0</td>\n",
       "      <td>1.526367</td>\n",
       "      <td>2.042909</td>\n",
       "      <td>1.262561</td>\n",
       "      <td>2.436638</td>\n",
       "      <td>-0.565555</td>\n",
       "      <td>-0.805575</td>\n",
       "      <td>-0.497613</td>\n",
       "      <td>-0.509525</td>\n",
       "    </tr>\n",
       "    <tr>\n",
       "      <th>2</th>\n",
       "      <td>1.0</td>\n",
       "      <td>-0.829498</td>\n",
       "      <td>-0.678308</td>\n",
       "      <td>-0.154618</td>\n",
       "      <td>-0.751711</td>\n",
       "      <td>-0.311830</td>\n",
       "      <td>0.557866</td>\n",
       "      <td>-0.497613</td>\n",
       "      <td>1.962614</td>\n",
       "    </tr>\n",
       "  </tbody>\n",
       "</table>\n",
       "</div>"
      ],
      "text/plain": [
       "     0         1         2         3         4         5         6         7  \\\n",
       "0  1.0 -0.829498 -1.065670 -0.956795 -1.165475  1.246767 -0.532887 -0.497613   \n",
       "1  1.0  1.526367  2.042909  1.262561  2.436638 -0.565555 -0.805575 -0.497613   \n",
       "2  1.0 -0.829498 -0.678308 -0.154618 -0.751711 -0.311830  0.557866 -0.497613   \n",
       "\n",
       "          8  \n",
       "0  1.962614  \n",
       "1 -0.509525  \n",
       "2  1.962614  "
      ]
     },
     "execution_count": 100,
     "metadata": {},
     "output_type": "execute_result"
    }
   ],
   "source": [
    "pd.DataFrame(X_train_scaled).head(3)"
   ]
  },
  {
   "cell_type": "code",
   "execution_count": 101,
   "metadata": {},
   "outputs": [
    {
     "data": {
      "text/html": [
       "<div>\n",
       "<style scoped>\n",
       "    .dataframe tbody tr th:only-of-type {\n",
       "        vertical-align: middle;\n",
       "    }\n",
       "\n",
       "    .dataframe tbody tr th {\n",
       "        vertical-align: top;\n",
       "    }\n",
       "\n",
       "    .dataframe thead th {\n",
       "        text-align: right;\n",
       "    }\n",
       "</style>\n",
       "<table border=\"1\" class=\"dataframe\">\n",
       "  <thead>\n",
       "    <tr style=\"text-align: right;\">\n",
       "      <th></th>\n",
       "      <th>0</th>\n",
       "      <th>1</th>\n",
       "      <th>2</th>\n",
       "      <th>3</th>\n",
       "      <th>4</th>\n",
       "      <th>5</th>\n",
       "      <th>6</th>\n",
       "      <th>7</th>\n",
       "      <th>8</th>\n",
       "    </tr>\n",
       "  </thead>\n",
       "  <tbody>\n",
       "    <tr>\n",
       "      <th>0</th>\n",
       "      <td>1.0</td>\n",
       "      <td>0.348434</td>\n",
       "      <td>0.667774</td>\n",
       "      <td>0.192992</td>\n",
       "      <td>0.938811</td>\n",
       "      <td>1.246767</td>\n",
       "      <td>-0.260199</td>\n",
       "      <td>-0.497613</td>\n",
       "      <td>-0.509525</td>\n",
       "    </tr>\n",
       "    <tr>\n",
       "      <th>1</th>\n",
       "      <td>1.0</td>\n",
       "      <td>0.348434</td>\n",
       "      <td>0.106099</td>\n",
       "      <td>-0.208097</td>\n",
       "      <td>0.259056</td>\n",
       "      <td>0.956796</td>\n",
       "      <td>0.557866</td>\n",
       "      <td>-0.497613</td>\n",
       "      <td>-0.509525</td>\n",
       "    </tr>\n",
       "    <tr>\n",
       "      <th>2</th>\n",
       "      <td>1.0</td>\n",
       "      <td>-0.829498</td>\n",
       "      <td>-1.172195</td>\n",
       "      <td>-1.438101</td>\n",
       "      <td>-1.263596</td>\n",
       "      <td>1.428000</td>\n",
       "      <td>-0.805575</td>\n",
       "      <td>2.009592</td>\n",
       "      <td>-0.509525</td>\n",
       "    </tr>\n",
       "  </tbody>\n",
       "</table>\n",
       "</div>"
      ],
      "text/plain": [
       "     0         1         2         3         4         5         6         7  \\\n",
       "0  1.0  0.348434  0.667774  0.192992  0.938811  1.246767 -0.260199 -0.497613   \n",
       "1  1.0  0.348434  0.106099 -0.208097  0.259056  0.956796  0.557866 -0.497613   \n",
       "2  1.0 -0.829498 -1.172195 -1.438101 -1.263596  1.428000 -0.805575  2.009592   \n",
       "\n",
       "          8  \n",
       "0 -0.509525  \n",
       "1 -0.509525  \n",
       "2 -0.509525  "
      ]
     },
     "execution_count": 101,
     "metadata": {},
     "output_type": "execute_result"
    }
   ],
   "source": [
    "pd.DataFrame(X_test_scaled).head(3)"
   ]
  },
  {
   "cell_type": "code",
   "execution_count": 102,
   "metadata": {},
   "outputs": [
    {
     "name": "stdout",
     "output_type": "stream",
     "text": [
      "                            OLS Regression Results                            \n",
      "==============================================================================\n",
      "Dep. Variable:                    mpg   R-squared:                       0.814\n",
      "Model:                            OLS   Adj. R-squared:                  0.808\n",
      "Method:                 Least Squares   F-statistic:                     138.7\n",
      "Date:                Tue, 25 Feb 2025   Prob (F-statistic):           6.01e-88\n",
      "Time:                        11:44:56   Log-Likelihood:                -687.67\n",
      "No. Observations:                 262   AIC:                             1393.\n",
      "Df Residuals:                     253   BIC:                             1425.\n",
      "Df Model:                           8                                         \n",
      "Covariance Type:            nonrobust                                         \n",
      "==============================================================================\n",
      "                 coef    std err          t      P>|t|      [0.025      0.975]\n",
      "------------------------------------------------------------------------------\n",
      "const         23.6782      0.210    112.788      0.000      23.265      24.092\n",
      "x1            -1.1758      0.680     -1.729      0.085      -2.515       0.163\n",
      "x2             2.8190      0.969      2.909      0.004       0.911       4.727\n",
      "x3            -1.2654      0.655     -1.933      0.054      -2.555       0.024\n",
      "x4            -5.1651      0.658     -7.851      0.000      -6.461      -3.870\n",
      "x5             0.3032      0.330      0.919      0.359      -0.346       0.953\n",
      "x6             2.8810      0.237     12.162      0.000       2.414       3.348\n",
      "x7             0.9469      0.274      3.455      0.001       0.407       1.487\n",
      "x8             1.0056      0.282      3.571      0.000       0.451       1.560\n",
      "==============================================================================\n",
      "Omnibus:                        7.263   Durbin-Watson:                   1.970\n",
      "Prob(Omnibus):                  0.026   Jarque-Bera (JB):                7.104\n",
      "Skew:                           0.354   Prob(JB):                       0.0287\n",
      "Kurtosis:                       3.387   Cond. No.                         11.4\n",
      "==============================================================================\n",
      "\n",
      "Notes:\n",
      "[1] Standard Errors assume that the covariance matrix of the errors is correctly specified.\n"
     ]
    }
   ],
   "source": [
    "# define and fit\n",
    "lm = sm.OLS(y_train, X_train_scaled)\n",
    "lm = lm.fit()\n",
    "print(lm.summary())"
   ]
  },
  {
   "cell_type": "code",
   "execution_count": 103,
   "metadata": {},
   "outputs": [
    {
     "name": "stdout",
     "output_type": "stream",
     "text": [
      "R-squared: 0.834\n",
      "MAE: 2.441\n",
      "MAPE: 11.512%\n",
      "RMSE: 3.201\n"
     ]
    }
   ],
   "source": [
    "# compare real and predicted values for test set\n",
    "y_pred = lm.predict(X_test_scaled)\n",
    "\n",
    "# strength of correlation between real and predicted y\n",
    "print(f\"R-squared: {metrics.r2_score(y_test, y_pred):.3f}\")\n",
    "# avg distance from true y\n",
    "print(f\"MAE: {metrics.mean_absolute_error(y_test, y_pred):.3f}\")\n",
    "# avg % distance\n",
    "print(f\"MAPE: {metrics.mean_absolute_percentage_error(y_test, y_pred)*100:.3f}%\")\n",
    "# weighted avg distance (punishing large errors)\n",
    "print(f\"RMSE: {metrics.root_mean_squared_error(y_test, y_pred):.3f}\")"
   ]
  },
  {
   "cell_type": "code",
   "execution_count": 104,
   "metadata": {},
   "outputs": [
    {
     "data": {
      "image/png": "[encoded data removed]",
      "text/plain": [
       "<Figure size 640x480 with 1 Axes>"
      ]
     },
     "metadata": {},
     "output_type": "display_data"
    }
   ],
   "source": [
    "# compare real and predicted y-values (should be linear)\n",
    "plt.scatter(y_test, y_pred)\n",
    "plt.show()"
   ]
  },
  {
   "cell_type": "code",
   "execution_count": 105,
   "metadata": {},
   "outputs": [
    {
     "data": {
      "image/png": "[encoded data removed]",
      "text/plain": [
       "<Figure size 640x480 with 1 Axes>"
      ]
     },
     "metadata": {},
     "output_type": "display_data"
    }
   ],
   "source": [
    "# distribution of residuals (should be normal)\n",
    "sns.histplot(y_test - y_pred, bins=20, kde=True)\n",
    "plt.show()"
   ]
  },
  {
   "cell_type": "markdown",
   "metadata": {},
   "source": [
    "**Comment on the output. For instance:**\n",
    "\n",
    "i.\tIs there a relationship between the predictors and the response? \n",
    "\n",
    "ii.\tWhich predictors appear to have a statistically significant relationship to the response? \n",
    "\n",
    "iii.\tWhat does the coefficient for the year variable suggest? Use correct language, for every….\n",
    "\n",
    "iv.\tWhat does the coefficient for the categorical origin suggest? Use the correct language, comparing each to the Intercept"
   ]
  },
  {
   "cell_type": "code",
   "execution_count": 106,
   "metadata": {},
   "outputs": [
    {
     "name": "stdout",
     "output_type": "stream",
     "text": [
      "<class 'pandas.core.frame.DataFrame'>\n",
      "Index: 262 entries, 127 to 131\n",
      "Data columns (total 8 columns):\n",
      " #   Column        Non-Null Count  Dtype  \n",
      "---  ------        --------------  -----  \n",
      " 0   cylinders     262 non-null    int64  \n",
      " 1   displacement  262 non-null    float64\n",
      " 2   horsepower    262 non-null    int64  \n",
      " 3   weight        262 non-null    int64  \n",
      " 4   acceleration  262 non-null    float64\n",
      " 5   year          262 non-null    int64  \n",
      " 6   origin_2      262 non-null    bool   \n",
      " 7   origin_3      262 non-null    bool   \n",
      "dtypes: bool(2), float64(2), int64(4)\n",
      "memory usage: 14.8 KB\n"
     ]
    }
   ],
   "source": [
    "pd.DataFrame(X_train).info()"
   ]
  },
  {
   "cell_type": "code",
   "execution_count": 107,
   "metadata": {},
   "outputs": [
    {
     "data": {
      "text/plain": [
       "x1   -0.692509\n",
       "x2    0.027299\n",
       "x3   -0.033837\n",
       "x4   -0.006106\n",
       "x5    0.109909\n",
       "x6    0.785615\n",
       "x7    2.374171\n",
       "x8    2.485933\n",
       "dtype: float64"
      ]
     },
     "execution_count": 107,
     "metadata": {},
     "output_type": "execute_result"
    }
   ],
   "source": [
    "coefs_unscaled = lm.params[1:] / scaler.scale_\n",
    "coefs_unscaled"
   ]
  },
  {
   "cell_type": "code",
   "execution_count": 108,
   "metadata": {},
   "outputs": [
    {
     "name": "stdout",
     "output_type": "stream",
     "text": [
      "i. as a whole, the predictors have a moderately strong relationship with the response, as indicated by the R-squared of 0.814\n",
      "ii. stasticially signficant: x2, x4, x6, x7, x8 which correspond to displacement, weight, year, and origin (dummies)\n",
      "iii. for every 1-unit increase in a vehicle's year (x6), we expect a 0.786 increase in mpg\n",
      "iv. Cars from origin 2 and 3 (x7 and x8) typically have higher mpg than cars from origin 1, by 2.374 and 2.486 units respectively.\n"
     ]
    }
   ],
   "source": [
    "print(f\"i. as a whole, the predictors have a moderately strong relationship with the response, as indicated by the R-squared of {lm.rsquared:.3f}\")\n",
    "print(f\"ii. stasticially signficant: x2, x4, x6, x7, x8 which correspond to displacement, weight, year, and origin (dummies)\")\n",
    "print(f\"iii. for every 1-unit increase in a vehicle's year (x6), we expect a {coefs_unscaled['x6']:.3f} increase in mpg\")\n",
    "print(f\"iv. Cars from origin 2 and 3 (x7 and x8) typically have higher mpg than cars from origin 1, by {coefs_unscaled['x7']:.3f} and {coefs_unscaled['x8']:.3f} units respectively.\")"
   ]
  },
  {
   "cell_type": "markdown",
   "metadata": {},
   "source": [
    "**Remove the predictors that aren’t significant, re-calculate the model, and write out the final model equation.**"
   ]
  },
  {
   "cell_type": "code",
   "execution_count": 109,
   "metadata": {},
   "outputs": [],
   "source": [
    "# drop insiginficant features, redo split (same random state)\n",
    "X = X.drop(['cylinders', 'horsepower', 'acceleration'], axis=1)\n",
    "X_train, X_test, y_train, y_test = train_test_split(X, y, test_size=0.33, random_state=82)"
   ]
  },
  {
   "cell_type": "code",
   "execution_count": 110,
   "metadata": {},
   "outputs": [],
   "source": [
    "# scale and add constant\n",
    "X_train_scaled = scaler.fit_transform(X_train)\n",
    "X_test_scaled = scaler.transform(X_test)\n",
    "X_train_scaled = sm.add_constant(X_train_scaled)\n",
    "X_test_scaled = sm.add_constant(X_test_scaled)"
   ]
  },
  {
   "cell_type": "code",
   "execution_count": 111,
   "metadata": {},
   "outputs": [
    {
     "data": {
      "text/html": [
       "<div>\n",
       "<style scoped>\n",
       "    .dataframe tbody tr th:only-of-type {\n",
       "        vertical-align: middle;\n",
       "    }\n",
       "\n",
       "    .dataframe tbody tr th {\n",
       "        vertical-align: top;\n",
       "    }\n",
       "\n",
       "    .dataframe thead th {\n",
       "        text-align: right;\n",
       "    }\n",
       "</style>\n",
       "<table border=\"1\" class=\"dataframe\">\n",
       "  <thead>\n",
       "    <tr style=\"text-align: right;\">\n",
       "      <th></th>\n",
       "      <th>displacement</th>\n",
       "      <th>weight</th>\n",
       "      <th>year</th>\n",
       "      <th>origin_2</th>\n",
       "      <th>origin_3</th>\n",
       "    </tr>\n",
       "  </thead>\n",
       "  <tbody>\n",
       "    <tr>\n",
       "      <th>127</th>\n",
       "      <td>79.0</td>\n",
       "      <td>1950</td>\n",
       "      <td>74</td>\n",
       "      <td>False</td>\n",
       "      <td>True</td>\n",
       "    </tr>\n",
       "    <tr>\n",
       "      <th>102</th>\n",
       "      <td>400.0</td>\n",
       "      <td>4997</td>\n",
       "      <td>73</td>\n",
       "      <td>False</td>\n",
       "      <td>False</td>\n",
       "    </tr>\n",
       "    <tr>\n",
       "      <th>266</th>\n",
       "      <td>119.0</td>\n",
       "      <td>2300</td>\n",
       "      <td>78</td>\n",
       "      <td>False</td>\n",
       "      <td>True</td>\n",
       "    </tr>\n",
       "  </tbody>\n",
       "</table>\n",
       "</div>"
      ],
      "text/plain": [
       "     displacement  weight  year  origin_2  origin_3\n",
       "127          79.0    1950    74     False      True\n",
       "102         400.0    4997    73     False     False\n",
       "266         119.0    2300    78     False      True"
      ]
     },
     "execution_count": 111,
     "metadata": {},
     "output_type": "execute_result"
    }
   ],
   "source": [
    "X_train.head(3)"
   ]
  },
  {
   "cell_type": "code",
   "execution_count": 112,
   "metadata": {},
   "outputs": [
    {
     "name": "stdout",
     "output_type": "stream",
     "text": [
      "                            OLS Regression Results                            \n",
      "==============================================================================\n",
      "Dep. Variable:                    mpg   R-squared:                       0.805\n",
      "Model:                            OLS   Adj. R-squared:                  0.801\n",
      "Method:                 Least Squares   F-statistic:                     211.3\n",
      "Date:                Tue, 25 Feb 2025   Prob (F-statistic):           1.11e-88\n",
      "Time:                        11:44:57   Log-Likelihood:                -694.13\n",
      "No. Observations:                 262   AIC:                             1400.\n",
      "Df Residuals:                     256   BIC:                             1422.\n",
      "Df Model:                           5                                         \n",
      "Covariance Type:            nonrobust                                         \n",
      "==============================================================================\n",
      "                 coef    std err          t      P>|t|      [0.025      0.975]\n",
      "------------------------------------------------------------------------------\n",
      "const         23.6782      0.214    110.689      0.000      23.257      24.100\n",
      "x1             0.5051      0.629      0.804      0.422      -0.733       1.743\n",
      "x2            -5.3954      0.563     -9.580      0.000      -6.505      -4.286\n",
      "x3             2.9784      0.237     12.593      0.000       2.513       3.444\n",
      "x4             0.8409      0.276      3.044      0.003       0.297       1.385\n",
      "x5             0.7428      0.274      2.713      0.007       0.204       1.282\n",
      "==============================================================================\n",
      "Omnibus:                       10.564   Durbin-Watson:                   1.907\n",
      "Prob(Omnibus):                  0.005   Jarque-Bera (JB):               12.411\n",
      "Skew:                           0.361   Prob(JB):                      0.00202\n",
      "Kurtosis:                       3.785   Cond. No.                         6.06\n",
      "==============================================================================\n",
      "\n",
      "Notes:\n",
      "[1] Standard Errors assume that the covariance matrix of the errors is correctly specified.\n"
     ]
    }
   ],
   "source": [
    "# define and fit\n",
    "lm = sm.OLS(y_train, X_train_scaled)\n",
    "lm = lm.fit()\n",
    "print(lm.summary())"
   ]
  },
  {
   "cell_type": "code",
   "execution_count": 113,
   "metadata": {},
   "outputs": [
    {
     "name": "stdout",
     "output_type": "stream",
     "text": [
      "R-squared: 0.847\n",
      "MAE: 2.295\n",
      "MAPE: 10.548%\n",
      "RMSE: 3.073\n"
     ]
    }
   ],
   "source": [
    "# compare real and predicted values for test set\n",
    "y_pred = lm.predict(X_test_scaled)\n",
    "\n",
    "# strength of correlation between real and predicted y\n",
    "print(f\"R-squared: {metrics.r2_score(y_test, y_pred):.3f}\")\n",
    "# avg distance from true y\n",
    "print(f\"MAE: {metrics.mean_absolute_error(y_test, y_pred):.3f}\")\n",
    "# avg % distance\n",
    "print(f\"MAPE: {metrics.mean_absolute_percentage_error(y_test, y_pred)*100:.3f}%\")\n",
    "# weighted avg distance (punishing large errors)\n",
    "print(f\"RMSE: {metrics.root_mean_squared_error(y_test, y_pred):.3f}\")"
   ]
  },
  {
   "cell_type": "code",
   "execution_count": 114,
   "metadata": {},
   "outputs": [
    {
     "data": {
      "text/plain": [
       "x1    0.004892\n",
       "x2   -0.006378\n",
       "x3    0.812186\n",
       "x4    2.108372\n",
       "x5    1.836287\n",
       "dtype: float64"
      ]
     },
     "execution_count": 114,
     "metadata": {},
     "output_type": "execute_result"
    }
   ],
   "source": [
    "coefs_unscaled = lm.params[1:] / scaler.scale_\n",
    "coefs_unscaled"
   ]
  },
  {
   "cell_type": "code",
   "execution_count": 115,
   "metadata": {},
   "outputs": [
    {
     "name": "stdout",
     "output_type": "stream",
     "text": [
      "model equation: mpg = 23.678 + 0.005(displacement) + -0.006(weight) + 0.812(year) + 2.108(origin_2) + 1.836(origin_3)\n"
     ]
    }
   ],
   "source": [
    "print(f\"model equation: mpg = {lm.params.iloc[0]:.3f}\"\n",
    "      f\" + {coefs_unscaled.iloc[0]:.3f}({X.columns[0]})\"\n",
    "      f\" + {coefs_unscaled.iloc[1]:.3f}({X.columns[1]})\"\n",
    "      f\" + {coefs_unscaled.iloc[2]:.3f}({X.columns[2]})\"\n",
    "      f\" + {coefs_unscaled.iloc[3]:.3f}({X.columns[3]})\"\n",
    "      f\" + {coefs_unscaled.iloc[4]:.3f}({X.columns[4]})\")"
   ]
  },
  {
   "cell_type": "markdown",
   "metadata": {},
   "source": [
    "**Fit some models with interactions, like horsepower * weight or displacement/acceleration. Do any interactions appear to be statistically significant?**"
   ]
  },
  {
   "cell_type": "code",
   "execution_count": 116,
   "metadata": {},
   "outputs": [
    {
     "name": "stdout",
     "output_type": "stream",
     "text": [
      "                            OLS Regression Results                            \n",
      "==============================================================================\n",
      "Dep. Variable:                    mpg   R-squared:                       0.620\n",
      "Model:                            OLS   Adj. R-squared:                  0.618\n",
      "Method:                 Least Squares   F-statistic:                     423.4\n",
      "Date:                Tue, 25 Feb 2025   Prob (F-statistic):           1.71e-56\n",
      "Time:                        11:44:57   Log-Likelihood:                -781.64\n",
      "No. Observations:                 262   AIC:                             1567.\n",
      "Df Residuals:                     260   BIC:                             1574.\n",
      "Df Model:                           1                                         \n",
      "Covariance Type:            nonrobust                                         \n",
      "==============================================================================\n",
      "                 coef    std err          t      P>|t|      [0.025      0.975]\n",
      "------------------------------------------------------------------------------\n",
      "const         33.0248      0.542     60.888      0.000      31.957      34.093\n",
      "0          -2.841e-05   1.38e-06    -20.577      0.000   -3.11e-05   -2.57e-05\n",
      "==============================================================================\n",
      "Omnibus:                       11.585   Durbin-Watson:                   1.998\n",
      "Prob(Omnibus):                  0.003   Jarque-Bera (JB):               12.198\n",
      "Skew:                           0.528   Prob(JB):                      0.00225\n",
      "Kurtosis:                       3.038   Cond. No.                     7.19e+05\n",
      "==============================================================================\n",
      "\n",
      "Notes:\n",
      "[1] Standard Errors assume that the covariance matrix of the errors is correctly specified.\n",
      "[2] The condition number is large, 7.19e+05. This might indicate that there are\n",
      "strong multicollinearity or other numerical problems.\n"
     ]
    }
   ],
   "source": [
    "# horsepower * weight\n",
    "X = pd.DataFrame(df['horsepower'] * df['weight'])\n",
    "X_train, X_test, y_train, y_test = train_test_split(X, y, test_size=0.33, random_state=82)\n",
    "X_train = sm.add_constant(X_train)\n",
    "X_test = sm.add_constant(X_test)\n",
    "lm = sm.OLS(y_train, X_train)\n",
    "lm = lm.fit()\n",
    "print(lm.summary())"
   ]
  },
  {
   "cell_type": "code",
   "execution_count": 117,
   "metadata": {},
   "outputs": [
    {
     "name": "stdout",
     "output_type": "stream",
     "text": [
      "statistically significant (p < 0.001) but low r-squared for model fit\n"
     ]
    }
   ],
   "source": [
    "print(f\"statistically significant (p < 0.001) but low r-squared for model fit\")"
   ]
  },
  {
   "cell_type": "code",
   "execution_count": 118,
   "metadata": {},
   "outputs": [
    {
     "name": "stdout",
     "output_type": "stream",
     "text": [
      "                            OLS Regression Results                            \n",
      "==============================================================================\n",
      "Dep. Variable:                    mpg   R-squared:                       0.533\n",
      "Model:                            OLS   Adj. R-squared:                  0.531\n",
      "Method:                 Least Squares   F-statistic:                     296.8\n",
      "Date:                Tue, 25 Feb 2025   Prob (F-statistic):           6.91e-45\n",
      "Time:                        11:44:57   Log-Likelihood:                -808.49\n",
      "No. Observations:                 262   AIC:                             1621.\n",
      "Df Residuals:                     260   BIC:                             1628.\n",
      "Df Model:                           1                                         \n",
      "Covariance Type:            nonrobust                                         \n",
      "==============================================================================\n",
      "                 coef    std err          t      P>|t|      [0.025      0.975]\n",
      "------------------------------------------------------------------------------\n",
      "const         31.5495      0.563     56.067      0.000      30.441      32.658\n",
      "0             -0.5920      0.034    -17.227      0.000      -0.660      -0.524\n",
      "==============================================================================\n",
      "Omnibus:                       11.856   Durbin-Watson:                   2.006\n",
      "Prob(Omnibus):                  0.003   Jarque-Bera (JB):               12.685\n",
      "Skew:                           0.538   Prob(JB):                      0.00176\n",
      "Kurtosis:                       2.937   Cond. No.                         28.1\n",
      "==============================================================================\n",
      "\n",
      "Notes:\n",
      "[1] Standard Errors assume that the covariance matrix of the errors is correctly specified.\n"
     ]
    }
   ],
   "source": [
    "# displacement / accel\n",
    "X = pd.DataFrame(df['displacement'] / df['acceleration'])\n",
    "X_train, X_test, y_train, y_test = train_test_split(X, y, test_size=0.33, random_state=82)\n",
    "X_train = sm.add_constant(X_train)\n",
    "X_test = sm.add_constant(X_test)\n",
    "lm = sm.OLS(y_train, X_train)\n",
    "lm = lm.fit()\n",
    "print(lm.summary())"
   ]
  },
  {
   "cell_type": "code",
   "execution_count": 119,
   "metadata": {},
   "outputs": [
    {
     "name": "stdout",
     "output_type": "stream",
     "text": [
      "statistically significant (p < 0.001) but low r-squared for model fit\n"
     ]
    }
   ],
   "source": [
    "print(f\"statistically significant (p < 0.001) but low r-squared for model fit\")"
   ]
  },
  {
   "cell_type": "code",
   "execution_count": 120,
   "metadata": {},
   "outputs": [
    {
     "name": "stdout",
     "output_type": "stream",
     "text": [
      "                            OLS Regression Results                            \n",
      "==============================================================================\n",
      "Dep. Variable:                    mpg   R-squared:                       0.525\n",
      "Model:                            OLS   Adj. R-squared:                  0.523\n",
      "Method:                 Least Squares   F-statistic:                     287.2\n",
      "Date:                Tue, 25 Feb 2025   Prob (F-statistic):           6.68e-44\n",
      "Time:                        11:44:57   Log-Likelihood:                -810.77\n",
      "No. Observations:                 262   AIC:                             1626.\n",
      "Df Residuals:                     260   BIC:                             1633.\n",
      "Df Model:                           1                                         \n",
      "Covariance Type:            nonrobust                                         \n",
      "==============================================================================\n",
      "                 coef    std err          t      P>|t|      [0.025      0.975]\n",
      "------------------------------------------------------------------------------\n",
      "const         29.5162      0.478     61.754      0.000      28.575      30.457\n",
      "0             -0.1351      0.008    -16.946      0.000      -0.151      -0.119\n",
      "==============================================================================\n",
      "Omnibus:                       23.185   Durbin-Watson:                   2.028\n",
      "Prob(Omnibus):                  0.000   Jarque-Bera (JB):               26.603\n",
      "Skew:                           0.742   Prob(JB):                     1.67e-06\n",
      "Kurtosis:                       3.487   Cond. No.                         86.5\n",
      "==============================================================================\n",
      "\n",
      "Notes:\n",
      "[1] Standard Errors assume that the covariance matrix of the errors is correctly specified.\n"
     ]
    }
   ],
   "source": [
    "# whatever this is\n",
    "X = pd.DataFrame((df['horsepower'] * df['cylinders'] * df['displacement']) / df['weight'])\n",
    "X_train, X_test, y_train, y_test = train_test_split(X, y, test_size=0.33, random_state=82)\n",
    "X_train = sm.add_constant(X_train)\n",
    "X_test = sm.add_constant(X_test)\n",
    "lm = sm.OLS(y_train, X_train)\n",
    "lm = lm.fit()\n",
    "print(lm.summary())"
   ]
  },
  {
   "cell_type": "code",
   "execution_count": 121,
   "metadata": {},
   "outputs": [
    {
     "name": "stdout",
     "output_type": "stream",
     "text": [
      "statistically significant (p < 0.001) but low r-squared for model fit\n"
     ]
    }
   ],
   "source": [
    "print(f\"statistically significant (p < 0.001) but low r-squared for model fit\")"
   ]
  },
  {
   "cell_type": "markdown",
   "metadata": {},
   "source": [
    "**Try a few different transformations of one of the variables, such as \n",
    "log(weight), 100/horsepower, cylinders2. Comment on your findings.**"
   ]
  },
  {
   "cell_type": "code",
   "execution_count": 122,
   "metadata": {},
   "outputs": [
    {
     "name": "stdout",
     "output_type": "stream",
     "text": [
      "                            OLS Regression Results                            \n",
      "==============================================================================\n",
      "Dep. Variable:                    mpg   R-squared:                       0.686\n",
      "Model:                            OLS   Adj. R-squared:                  0.685\n",
      "Method:                 Least Squares   F-statistic:                     567.7\n",
      "Date:                Tue, 25 Feb 2025   Prob (F-statistic):           2.50e-67\n",
      "Time:                        11:44:57   Log-Likelihood:                -756.55\n",
      "No. Observations:                 262   AIC:                             1517.\n",
      "Df Residuals:                     260   BIC:                             1524.\n",
      "Df Model:                           1                                         \n",
      "Covariance Type:            nonrobust                                         \n",
      "==============================================================================\n",
      "                 coef    std err          t      P>|t|      [0.025      0.975]\n",
      "------------------------------------------------------------------------------\n",
      "const        205.3613      7.630     26.915      0.000     190.337     220.386\n",
      "weight       -22.8681      0.960    -23.827      0.000     -24.758     -20.978\n",
      "==============================================================================\n",
      "Omnibus:                       29.646   Durbin-Watson:                   2.065\n",
      "Prob(Omnibus):                  0.000   Jarque-Bera (JB):               41.751\n",
      "Skew:                           0.732   Prob(JB):                     8.59e-10\n",
      "Kurtosis:                       4.297   Cond. No.                         229.\n",
      "==============================================================================\n",
      "\n",
      "Notes:\n",
      "[1] Standard Errors assume that the covariance matrix of the errors is correctly specified.\n"
     ]
    }
   ],
   "source": [
    "# log(weight)\n",
    "X = pd.DataFrame(np.log(df['weight']))\n",
    "X_train, X_test, y_train, y_test = train_test_split(X, y, test_size=0.33, random_state=82)\n",
    "X_train = sm.add_constant(X_train)\n",
    "X_test = sm.add_constant(X_test)\n",
    "lm = sm.OLS(y_train, X_train)\n",
    "lm = lm.fit()\n",
    "print(lm.summary())"
   ]
  },
  {
   "cell_type": "code",
   "execution_count": 123,
   "metadata": {},
   "outputs": [
    {
     "name": "stdout",
     "output_type": "stream",
     "text": [
      "statistically significant (p < 0.001) but low r-squared for model fit\n",
      "very similar performance to just using weight, though slightly higher\n",
      "probably a reasonable transformation to apply for sake of normalization\n"
     ]
    }
   ],
   "source": [
    "print(f\"statistically significant (p < 0.001) but low r-squared for model fit\")\n",
    "print(f\"very similar performance to just using weight, though slightly higher\")\n",
    "print(f\"probably a reasonable transformation to apply for sake of normalization\")"
   ]
  },
  {
   "cell_type": "code",
   "execution_count": 124,
   "metadata": {},
   "outputs": [
    {
     "name": "stdout",
     "output_type": "stream",
     "text": [
      "                            OLS Regression Results                            \n",
      "==============================================================================\n",
      "Dep. Variable:                    mpg   R-squared:                       0.614\n",
      "Model:                            OLS   Adj. R-squared:                  0.613\n",
      "Method:                 Least Squares   F-statistic:                     414.1\n",
      "Date:                Tue, 25 Feb 2025   Prob (F-statistic):           1.04e-55\n",
      "Time:                        11:44:57   Log-Likelihood:                -783.45\n",
      "No. Observations:                 262   AIC:                             1571.\n",
      "Df Residuals:                     260   BIC:                             1578.\n",
      "Df Model:                           1                                         \n",
      "Covariance Type:            nonrobust                                         \n",
      "==============================================================================\n",
      "                 coef    std err          t      P>|t|      [0.025      0.975]\n",
      "------------------------------------------------------------------------------\n",
      "const         40.3709      0.873     46.246      0.000      38.652      42.090\n",
      "horsepower   -16.2408      0.798    -20.348      0.000     -17.812     -14.669\n",
      "==============================================================================\n",
      "Omnibus:                        5.610   Durbin-Watson:                   2.017\n",
      "Prob(Omnibus):                  0.061   Jarque-Bera (JB):                5.695\n",
      "Skew:                           0.359   Prob(JB):                       0.0580\n",
      "Kurtosis:                       2.915   Cond. No.                         5.70\n",
      "==============================================================================\n",
      "\n",
      "Notes:\n",
      "[1] Standard Errors assume that the covariance matrix of the errors is correctly specified.\n"
     ]
    }
   ],
   "source": [
    "# horsepower / 100\n",
    "X = pd.DataFrame(df['horsepower'] / 100)\n",
    "X_train, X_test, y_train, y_test = train_test_split(X, y, test_size=0.33, random_state=82)\n",
    "X_train = sm.add_constant(X_train)\n",
    "X_test = sm.add_constant(X_test)\n",
    "lm = sm.OLS(y_train, X_train)\n",
    "lm = lm.fit()\n",
    "print(lm.summary())"
   ]
  },
  {
   "cell_type": "code",
   "execution_count": 125,
   "metadata": {},
   "outputs": [
    {
     "name": "stdout",
     "output_type": "stream",
     "text": [
      "statistically significant (p < 0.001) but low r-squared for model fit\n",
      "same as just using horsepower, but coefficient is scaled by 100\n"
     ]
    }
   ],
   "source": [
    "print(f\"statistically significant (p < 0.001) but low r-squared for model fit\")\n",
    "print(f\"same as just using horsepower, but coefficient is scaled by 100\")"
   ]
  },
  {
   "cell_type": "code",
   "execution_count": 130,
   "metadata": {},
   "outputs": [
    {
     "name": "stdout",
     "output_type": "stream",
     "text": [
      "                            OLS Regression Results                            \n",
      "==============================================================================\n",
      "Dep. Variable:                    mpg   R-squared:                       0.584\n",
      "Model:                            OLS   Adj. R-squared:                  0.582\n",
      "Method:                 Least Squares   F-statistic:                     364.4\n",
      "Date:                Tue, 25 Feb 2025   Prob (F-statistic):           2.22e-51\n",
      "Time:                        11:45:37   Log-Likelihood:                -793.47\n",
      "No. Observations:                 262   AIC:                             1591.\n",
      "Df Residuals:                     260   BIC:                             1598.\n",
      "Df Model:                           1                                         \n",
      "Covariance Type:            nonrobust                                         \n",
      "==============================================================================\n",
      "                 coef    std err          t      P>|t|      [0.025      0.975]\n",
      "------------------------------------------------------------------------------\n",
      "const         33.1582      0.585     56.633      0.000      32.005      34.311\n",
      "cylinders     -0.2950      0.015    -19.089      0.000      -0.325      -0.265\n",
      "==============================================================================\n",
      "Omnibus:                       17.175   Durbin-Watson:                   2.065\n",
      "Prob(Omnibus):                  0.000   Jarque-Bera (JB):               18.760\n",
      "Skew:                           0.597   Prob(JB):                     8.44e-05\n",
      "Kurtosis:                       3.539   Cond. No.                         71.6\n",
      "==============================================================================\n",
      "\n",
      "Notes:\n",
      "[1] Standard Errors assume that the covariance matrix of the errors is correctly specified.\n"
     ]
    }
   ],
   "source": [
    "# (cylinders)^2\n",
    "X = pd.DataFrame(df['cylinders'] ** 2)\n",
    "X_train, X_test, y_train, y_test = train_test_split(X, y, test_size=0.33, random_state=82)\n",
    "X_train = sm.add_constant(X_train)\n",
    "X_test = sm.add_constant(X_test)\n",
    "lm = sm.OLS(y_train, X_train)\n",
    "lm = lm.fit()\n",
    "print(lm.summary())"
   ]
  },
  {
   "cell_type": "code",
   "execution_count": null,
   "metadata": {},
   "outputs": [
    {
     "name": "stdout",
     "output_type": "stream",
     "text": [
      "statistically significant (p < 0.001) but very low r-squared\n",
      "r-squared is actually much lower than just evaluating cylinders, probably because of how it exaggerates the range/spread of cylinder count\n"
     ]
    }
   ],
   "source": [
    "print(f\"statistically significant (p < 0.001) but very low r-squared\")\n",
    "print(f\"r-squared is slighlty lower than just evaluating cylinders, probably because of how it exaggerates the range/spread of cylinder count\")\n"
   ]
  }
 ],
 "metadata": {
  "kernelspec": {
   "display_name": "dsa_py",
   "language": "python",
   "name": "python3"
  },
  "language_info": {
   "codemirror_mode": {
    "name": "ipython",
    "version": 3
   },
   "file_extension": ".py",
   "mimetype": "text/x-python",
   "name": "python",
   "nbconvert_exporter": "python",
   "pygments_lexer": "ipython3",
   "version": "3.13.1"
  }
 },
 "nbformat": 4,
 "nbformat_minor": 2
}
